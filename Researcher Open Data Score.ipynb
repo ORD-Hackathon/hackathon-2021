{
 "cells": [
  {
   "cell_type": "code",
   "execution_count": 1,
   "metadata": {},
   "outputs": [],
   "source": [
    "import ipywidgets as widgets\n",
    "from IPython.display import display\n"
   ]
  },
  {
   "cell_type": "code",
   "execution_count": null,
   "metadata": {},
   "outputs": [],
   "source": [
    "import numpy as np\n",
    "import pandas as pd\n",
    "import requests as r"
   ]
  },
  {
   "cell_type": "markdown",
   "metadata": {},
   "source": [
    "# GUI : Input researcher name or ORCID"
   ]
  },
  {
   "cell_type": "code",
   "execution_count": 56,
   "metadata": {},
   "outputs": [
    {
     "data": {
      "application/vnd.jupyter.widget-view+json": {
       "model_id": "87f579a32b6446fea090274a39024e34",
       "version_major": 2,
       "version_minor": 0
      },
      "text/plain": [
       "Text(value=\"Enter Researcher's name or ORCID\")"
      ]
     },
     "metadata": {},
     "output_type": "display_data"
    }
   ],
   "source": [
    "researcher = widgets.Text(value=\"Enter Researcher's name or ORCID\") #\n",
    "display(researcher)"
   ]
  },
  {
   "cell_type": "code",
   "execution_count": 61,
   "metadata": {
    "collapsed": true
   },
   "outputs": [
    {
     "name": "stdout",
     "output_type": "stream",
     "text": [
      "Fetching datasets from Zenodo\n",
      "nr of concepts found: 10\n",
      "['3735352', '3574973', '2363939', '1542050', '617344', '2221011', '2234487', '2330971', '3993156', '2495510', '3735352', '3574973', '2363939', '1542050', '617344', '2221011', '2234487', '2330971', '3993156', '2495510']\n"
     ]
    },
    {
     "ename": "TypeError",
     "evalue": "'NoneType' object is not iterable",
     "output_type": "error",
     "traceback": [
      "\u001b[0;31m---------------------------------------------------------------------------\u001b[0m",
      "\u001b[0;31mTypeError\u001b[0m                                 Traceback (most recent call last)",
      "\u001b[0;32m<ipython-input-61-358b972758ef>\u001b[0m in \u001b[0;36m<module>\u001b[0;34m\u001b[0m\n\u001b[0;32m----> 1\u001b[0;31m \u001b[0mget_open_data_scores_for_researcher\u001b[0m\u001b[0;34m(\u001b[0m\u001b[0mresearcher\u001b[0m\u001b[0;34m.\u001b[0m\u001b[0mvalue\u001b[0m\u001b[0;34m)\u001b[0m\u001b[0;34m\u001b[0m\u001b[0;34m\u001b[0m\u001b[0m\n\u001b[0m",
      "\u001b[0;32m<ipython-input-60-31f712204f87>\u001b[0m in \u001b[0;36mget_open_data_scores_for_researcher\u001b[0;34m(researcher_name_or_orcid, print_nb)\u001b[0m\n\u001b[1;32m      5\u001b[0m     \u001b[0;34m\"\"\"Returns Open Data Score for a reseacher\"\"\"\u001b[0m\u001b[0;34m\u001b[0m\u001b[0;34m\u001b[0m\u001b[0m\n\u001b[1;32m      6\u001b[0m \u001b[0;34m\u001b[0m\u001b[0m\n\u001b[0;32m----> 7\u001b[0;31m     \u001b[0mdatasets\u001b[0m \u001b[0;34m=\u001b[0m \u001b[0mget_datasets_of_researcher\u001b[0m\u001b[0;34m(\u001b[0m\u001b[0mresearcher_name_or_orcid\u001b[0m\u001b[0;34m)\u001b[0m\u001b[0;34m\u001b[0m\u001b[0;34m\u001b[0m\u001b[0m\n\u001b[0m\u001b[1;32m      8\u001b[0m \u001b[0;34m\u001b[0m\u001b[0m\n\u001b[1;32m      9\u001b[0m     \u001b[0mscores\u001b[0m \u001b[0;34m=\u001b[0m \u001b[0mdata_to_metrics\u001b[0m\u001b[0;34m.\u001b[0m\u001b[0mdatasets_to_scores\u001b[0m\u001b[0;34m(\u001b[0m\u001b[0mdatasets\u001b[0m\u001b[0;34m)\u001b[0m\u001b[0;34m\u001b[0m\u001b[0;34m\u001b[0m\u001b[0m\n",
      "\u001b[0;32m<ipython-input-59-7e55a1a5f040>\u001b[0m in \u001b[0;36mget_datasets_of_researcher\u001b[0;34m(researcher_name_or_orcid)\u001b[0m\n\u001b[1;32m     28\u001b[0m \u001b[0;34m\u001b[0m\u001b[0m\n\u001b[1;32m     29\u001b[0m         \u001b[0mprint\u001b[0m\u001b[0;34m(\u001b[0m\u001b[0;34m\"Fetching datasets from Zenodo\"\u001b[0m\u001b[0;34m)\u001b[0m\u001b[0;34m\u001b[0m\u001b[0;34m\u001b[0m\u001b[0m\n\u001b[0;32m---> 30\u001b[0;31m         \u001b[0mdatasets\u001b[0m \u001b[0;34m+=\u001b[0m \u001b[0mapi_zenodo\u001b[0m\u001b[0;34m.\u001b[0m\u001b[0mget_record_dois_for_name\u001b[0m\u001b[0;34m(\u001b[0m\u001b[0mname\u001b[0m\u001b[0;34m)\u001b[0m\u001b[0;34m\u001b[0m\u001b[0;34m\u001b[0m\u001b[0m\n\u001b[0m\u001b[1;32m     31\u001b[0m \u001b[0;34m\u001b[0m\u001b[0m\n\u001b[1;32m     32\u001b[0m         \u001b[0;31m#print(\"Fetching datasets from Figshare\")\u001b[0m\u001b[0;34m\u001b[0m\u001b[0;34m\u001b[0m\u001b[0;34m\u001b[0m\u001b[0m\n",
      "\u001b[0;31mTypeError\u001b[0m: 'NoneType' object is not iterable"
     ]
    }
   ],
   "source": [
    "## Work in progress\n",
    "get_open_data_scores_for_researcher(researcher.value)\n"
   ]
  },
  {
   "cell_type": "markdown",
   "metadata": {},
   "source": [
    "# Underlying main functions "
   ]
  },
  {
   "cell_type": "code",
   "execution_count": 59,
   "metadata": {},
   "outputs": [],
   "source": [
    "from researcher_to_data import *\n",
    "from researcher_to_publications import *\n",
    "from publication_to_data import *\n",
    "\n",
    "def get_datasets_of_researcher(researcher_name_or_orcid):\n",
    "    \"\"\" Fetches Publications and data repositories, \n",
    "        Returns list of dataset (IN WHICHEVER FORMAT IVAN NEEDS!)\"\"\"\n",
    "    \n",
    "    datasets = []\n",
    "    publications = []\n",
    "    \n",
    "    if researcher_name_or_orcid[0].isdigit():\n",
    "        orcid = researcher_name_or_orcid\n",
    "    \n",
    "        print(\"Fetching datasets from Zenodo\")\n",
    "        datasets += api_zenodo.get_data_for_orcid(orcid)\n",
    "\n",
    "        #print(\"Fetching datasets from Figshare\")\n",
    "        # \n",
    "\n",
    "        #print(\"Fetching datasets from DataVerse\")\n",
    "        #\n",
    "        \n",
    "        print(\"Fetching Publications DBs - not yet implemented for ORCID\")\n",
    "    \n",
    "    else:\n",
    "        name = researcher_name_or_orcid\n",
    "        \n",
    "        print(\"Fetching datasets from Zenodo\")\n",
    "        datasets += api_zenodo.get_record_dois_for_name(name)\n",
    "        \n",
    "        #print(\"Fetching datasets from Figshare\")\n",
    "        #\n",
    "\n",
    "        #print(\"Fetching datasets from DataVerse\")\n",
    "        #\n",
    "        \n",
    "        print(\"Fetching publications from Google Scholar\")\n",
    "        publications += scholar_api.main_scholar.get_publications_from_researcher(name)\n",
    "        \n",
    "        # print(\"Fetching publications from Scopus\")\n",
    "        # publications += ...\n",
    "        \n",
    "        # print(\"Fetching publications from WoS\")\n",
    "        # publications += ...\n",
    "        \n",
    "        print(\"Fetching datasets from identified publications\")\n",
    "        for pub in publications:\n",
    "            datasets += webscrape_datasets_from_publication.get_datasets_from_publication(pub)\n",
    "        \n",
    "        \n",
    "        ###\n",
    "        ### Remove any duplicated in datasets !!\n",
    "        ### TO DO \n",
    "        ###\n",
    "        \n",
    "    return datasets\n",
    "        "
   ]
  },
  {
   "cell_type": "code",
   "execution_count": 60,
   "metadata": {},
   "outputs": [],
   "source": [
    "from data_to_metrics import * \n",
    "\n",
    "def get_open_data_scores_for_researcher(researcher_name_or_orcid,\n",
    "                                        print_nb=True):\n",
    "    \"\"\"Returns Open Data Score for a reseacher\"\"\"\n",
    "    \n",
    "    datasets = get_datasets_of_researcher(researcher_name_or_orcid)\n",
    "    \n",
    "    scores = data_to_metrics.datasets_to_scores(datasets)\n",
    "    \n",
    "    if print_nb:\n",
    "        print('Researcher: '+researcher_name_or_orcid)\n",
    "        print_scores_nicely(scores)\n",
    "    \n",
    "def print_scores_nicely():\n",
    "    ## To do Charlie for demo!!\n",
    "    pass\n",
    "    "
   ]
  },
  {
   "cell_type": "code",
   "execution_count": null,
   "metadata": {},
   "outputs": [],
   "source": []
  }
 ],
 "metadata": {
  "kernelspec": {
   "display_name": "Python 3",
   "language": "python",
   "name": "python3"
  },
  "language_info": {
   "codemirror_mode": {
    "name": "ipython",
    "version": 3
   },
   "file_extension": ".py",
   "mimetype": "text/x-python",
   "name": "python",
   "nbconvert_exporter": "python",
   "pygments_lexer": "ipython3",
   "version": "3.7.6"
  },
  "toc": {
   "base_numbering": 1,
   "nav_menu": {},
   "number_sections": true,
   "sideBar": true,
   "skip_h1_title": false,
   "title_cell": "Table of Contents",
   "title_sidebar": "Contents",
   "toc_cell": false,
   "toc_position": {},
   "toc_section_display": true,
   "toc_window_display": false
  }
 },
 "nbformat": 4,
 "nbformat_minor": 4
}

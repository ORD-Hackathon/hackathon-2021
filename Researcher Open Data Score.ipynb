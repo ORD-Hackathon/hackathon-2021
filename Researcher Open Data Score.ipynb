{
 "cells": [
  {
   "cell_type": "code",
   "execution_count": 1,
   "metadata": {},
   "outputs": [],
   "source": [
    "import ipywidgets as widgets\n",
    "from IPython.display import display"
   ]
  },
  {
   "cell_type": "code",
   "execution_count": 2,
   "metadata": {},
   "outputs": [],
   "source": [
    "import numpy as np\n",
    "import pandas as pd\n",
    "import requests as r\n",
    "import re"
   ]
  },
  {
   "cell_type": "code",
   "execution_count": null,
   "metadata": {},
   "outputs": [],
   "source": []
  },
  {
   "cell_type": "markdown",
   "metadata": {},
   "source": [
    "# GUI : Input researcher name or ORCID"
   ]
  },
  {
   "cell_type": "code",
   "execution_count": 9,
   "metadata": {},
   "outputs": [
    {
     "data": {
      "application/vnd.jupyter.widget-view+json": {
       "model_id": "d7c5a05d001843f89ce8aa87c01a3afc",
       "version_major": 2,
       "version_minor": 0
      },
      "text/plain": [
       "Text(value=\"Enter Researcher's name or ORCID\")"
      ]
     },
     "metadata": {},
     "output_type": "display_data"
    }
   ],
   "source": [
    "researcher = widgets.Text(value=\"Enter Researcher's name or ORCID\") #\n",
    "display(researcher)"
   ]
  },
  {
   "cell_type": "code",
   "execution_count": 8,
   "metadata": {
    "scrolled": true
   },
   "outputs": [
    {
     "name": "stdout",
     "output_type": "stream",
     "text": [
      "Fetching datasets from Zenodo\n",
      "total_nr_of_hits: 2 (0 pages)\n",
      "\n",
      "\n",
      "Researcher: Charlotte Weil\n",
      "\n",
      "Aggregated Openness Score: \n",
      "31.0\n",
      "\n",
      "Usage Metrics: \n",
      "   Avg Downloads: 9.5\n",
      "   Average Unique Views: 36.5\n"
     ]
    }
   ],
   "source": [
    "get_open_data_scores_for_researcher(researcher.value)"
   ]
  },
  {
   "cell_type": "markdown",
   "metadata": {},
   "source": [
    "# Underlying main functions "
   ]
  },
  {
   "cell_type": "code",
   "execution_count": 4,
   "metadata": {},
   "outputs": [
    {
     "name": "stdout",
     "output_type": "stream",
     "text": [
      "['http://ipbes-natcap-ecoshard-data-for-publication.ecoshard.org\">http://ipbes-natcap-ecoshard-data-for-publication.ecoshard.org</a>', 'http://viz.naturalcapitalproject.org/ipbes\">http://viz.naturalcapitalproject.org/ipbes</a>.']\n"
     ]
    }
   ],
   "source": [
    "from researcher_to_data import api_zenodo\n",
    "from researcher_to_publications import scholar_api\n",
    "from researcher_to_publications import crossref_api\n",
    "from publication_to_data import webscrape_datasets_from_publication\n",
    "\n",
    "def get_datasets_of_researcher(researcher_name_or_orcid):\n",
    "    \"\"\" Fetches Publications and data repositories, \n",
    "        Returns list of dataset (IN WHICHEVER FORMAT IVAN NEEDS!)\"\"\"\n",
    "    \n",
    "    datasets = []\n",
    "    publications = []\n",
    "    \n",
    "    if researcher_name_or_orcid[0].isdigit():\n",
    "        orcid = researcher_name_or_orcid\n",
    "    \n",
    "        print(\"Fetching datasets from Zenodo\")\n",
    "        datasets += api_zenodo.get_data_for_orcid(orcid)\n",
    "\n",
    "        #print(\"Fetching datasets from Figshare\")\n",
    "        # \n",
    "\n",
    "        #print(\"Fetching datasets from DataVerse\")\n",
    "        #\n",
    "        \n",
    "        print(\"Fetching publications from CrossRef\")\n",
    "        publications += crossref_api.crossref_main.get_dois(orcid)\n",
    "        \n",
    "    \n",
    "    else:\n",
    "        name = researcher_name_or_orcid\n",
    "        name = re.sub(\" \", \" AND \", name)\n",
    "        \n",
    "        print(\"Fetching datasets from Zenodo\")\n",
    "        datasets += api_zenodo.get_data_for_name(name)\n",
    "        \n",
    "        print(\"(Not yet fetching other DBs and Publicatiosn for name)\")\n",
    "        #\n",
    "\n",
    "        #print(\"Fetching datasets from DataVerse\")\n",
    "        #\n",
    "        \n",
    "        #print(\"Fetching publications from Google Scholar\")\n",
    "        #publications += scholar_api.main_scholar.get_publications_from_researcher(name)\n",
    "        \n",
    "        # print(\"Fetching publications from Scopus\")\n",
    "        # publications += ...\n",
    "        \n",
    "        # print(\"Fetching publications from WoS\")\n",
    "        # publications += ...\n",
    "        \n",
    "        \n",
    "        \n",
    "        #print(\"Fetching datasets from identified publications\")\n",
    "        #for pub in publications:\n",
    "            ## Doesn't work.\n",
    "            ## datasets += webscrape_datasets_from_publication.get_datasets_from_publication(pub)\n",
    "            #pass\n",
    "        \n",
    "        ###\n",
    "        ### Remove any duplicated in datasets !!\n",
    "        ### TO DO \n",
    "        ###\n",
    "        \n",
    "    return datasets\n",
    "        "
   ]
  },
  {
   "cell_type": "code",
   "execution_count": 7,
   "metadata": {},
   "outputs": [],
   "source": [
    "import data_to_metrics.data_to_metrics as dtm\n",
    "\n",
    "def get_open_data_scores_for_researcher(researcher_name_or_orcid,\n",
    "                                        print_nb=True):\n",
    "    \"\"\"Returns Open Data Score for a reseacher\"\"\"\n",
    "    \n",
    "    datasets = get_datasets_of_researcher(researcher_name_or_orcid)\n",
    "    \n",
    "    scores = dtm.datasets_to_scores(datasets)\n",
    "    \n",
    "    if print_nb:\n",
    "        print('\\n\\nResearcher: '+researcher_name_or_orcid)\n",
    "        print('\\nAggregated Openness Score: ')\n",
    "        print(scores['openness_score'])\n",
    "        \n",
    "        print('\\nUsage Metrics: ')\n",
    "        print('   Avg Downloads: '+str(scores['avg_downloads']))\n",
    "        print('   Average Unique Views: '+str(scores['avg_unique_views']))\n",
    "    "
   ]
  }
 ],
 "metadata": {
  "kernelspec": {
   "display_name": "Python 3",
   "language": "python",
   "name": "python3"
  },
  "language_info": {
   "codemirror_mode": {
    "name": "ipython",
    "version": 3
   },
   "file_extension": ".py",
   "mimetype": "text/x-python",
   "name": "python",
   "nbconvert_exporter": "python",
   "pygments_lexer": "ipython3",
   "version": "3.7.6"
  },
  "toc": {
   "base_numbering": 1,
   "nav_menu": {},
   "number_sections": true,
   "sideBar": true,
   "skip_h1_title": false,
   "title_cell": "Table of Contents",
   "title_sidebar": "Contents",
   "toc_cell": false,
   "toc_position": {},
   "toc_section_display": true,
   "toc_window_display": false
  }
 },
 "nbformat": 4,
 "nbformat_minor": 4
}

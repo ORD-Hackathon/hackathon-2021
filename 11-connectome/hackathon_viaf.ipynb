{
 "cells": [
  {
   "cell_type": "code",
   "execution_count": null,
   "metadata": {},
   "outputs": [],
   "source": [
    "import pandas as pd\n",
    "person = pd.read_csv('data/hackathon_data/snf/P3_PersonExport.csv', sep=';')"
   ]
  },
  {
   "cell_type": "code",
   "execution_count": null,
   "metadata": {},
   "outputs": [],
   "source": [
    "person"
   ]
  },
  {
   "cell_type": "code",
   "execution_count": null,
   "metadata": {},
   "outputs": [],
   "source": [
    "names = zip(person['First Name'], person['Last Name'])\n",
    "names_joined = [str(n[0]) + \" \" + str(n[1]) for n in names]"
   ]
  },
  {
   "cell_type": "code",
   "execution_count": null,
   "metadata": {},
   "outputs": [],
   "source": [
    "import viapy\n",
    "import viapy.api\n",
    "import re\n",
    "import string\n",
    "\n",
    "viaf = viapy.api.ViafAPI()"
   ]
  },
  {
   "cell_type": "code",
   "execution_count": null,
   "metadata": {},
   "outputs": [],
   "source": [
    "candidates = []"
   ]
  },
  {
   "cell_type": "code",
   "execution_count": null,
   "metadata": {},
   "outputs": [],
   "source": [
    "for name in names_joined[:1000]:\n",
    "    results = viaf.find_person(name)\n",
    "    if results != None:\n",
    "        print(name)\n",
    "        cands = []\n",
    "        for r in results:\n",
    "            if isinstance(r['recordData']['mainHeadings']['data'], list):\n",
    "                cands.append([x['text'] for x in r['recordData']['mainHeadings']['data']])\n",
    "            else:\n",
    "                cands.append(r['recordData']['mainHeadings']['data']['text'])\n",
    "        candidates.append((name, cands))\n",
    "    else:\n",
    "        candidates.append((name, []))"
   ]
  },
  {
   "cell_type": "code",
   "execution_count": 112,
   "metadata": {},
   "outputs": [],
   "source": [
    "def levenshteinDistance(s1, s2):\n",
    "    if len(s1) > len(s2):\n",
    "        s1, s2 = s2, s1\n",
    "\n",
    "    distances = range(len(s1) + 1)\n",
    "    for i2, c2 in enumerate(s2):\n",
    "        distances_ = [i2+1]\n",
    "        for i1, c1 in enumerate(s1):\n",
    "            if c1 == c2:\n",
    "                distances_.append(distances[i1])\n",
    "            else:\n",
    "                distances_.append(1 + min((distances[i1], distances[i1 + 1], distances_[-1])))\n",
    "        distances = distances_\n",
    "    return distances[-1]"
   ]
  },
  {
   "cell_type": "code",
   "execution_count": null,
   "metadata": {},
   "outputs": [],
   "source": [
    "for (name, cands) in candidates:\n",
    "    if len(cands) > 0:\n",
    "        print(name, cands)\n",
    "        ld = 1000\n",
    "        best_match = None\n",
    "        for persons in cands:\n",
    "            for p in persons:\n",
    "                p_cleaned = re.sub(r'\\d+', '', p).translate(str.maketrans('', '', string.punctuation))\n",
    "                d = levenshteinDistance(name, p_cleaned)\n",
    "                if d < ld:\n",
    "                    ld = d\n",
    "                    best_match = p_cleaned\n",
    "        print(best_match, ld)"
   ]
  },
  {
   "cell_type": "code",
   "execution_count": null,
   "metadata": {},
   "outputs": [],
   "source": []
  }
 ],
 "metadata": {
  "kernelspec": {
   "display_name": "Python 3",
   "language": "python",
   "name": "python3"
  },
  "language_info": {
   "codemirror_mode": {
    "name": "ipython",
    "version": 3
   },
   "file_extension": ".py",
   "mimetype": "text/x-python",
   "name": "python",
   "nbconvert_exporter": "python",
   "pygments_lexer": "ipython3",
   "version": "3.8.5"
  }
 },
 "nbformat": 4,
 "nbformat_minor": 4
}
